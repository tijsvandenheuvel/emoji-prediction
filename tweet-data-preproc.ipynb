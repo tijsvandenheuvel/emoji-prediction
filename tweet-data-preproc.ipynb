{
 "metadata": {
  "language_info": {
   "codemirror_mode": {
    "name": "ipython",
    "version": 3
   },
   "file_extension": ".py",
   "mimetype": "text/x-python",
   "name": "python",
   "nbconvert_exporter": "python",
   "pygments_lexer": "ipython3",
   "version": "3.8.1-final"
  },
  "orig_nbformat": 2,
  "kernelspec": {
   "name": "Python 3.8.1 64-bit",
   "display_name": "Python 3.8.1 64-bit",
   "metadata": {
    "interpreter": {
     "hash": "082e9a3bcad0a290d0001e938aa60b99250c6c2ef33a923c00b70f9826caf4b7"
    }
   }
  }
 },
 "nbformat": 4,
 "nbformat_minor": 2,
 "cells": [
  {
   "source": [
    "# data cleaning\n",
    "\n",
    "turn tweet data set into workable dataframe using pyspark"
   ],
   "cell_type": "markdown",
   "metadata": {}
  },
  {
   "cell_type": "code",
   "execution_count": 1,
   "metadata": {},
   "outputs": [],
   "source": [
    "from pyspark import SparkContext"
   ]
  },
  {
   "cell_type": "code",
   "execution_count": 2,
   "metadata": {},
   "outputs": [],
   "source": [
    "try:\n",
    "    sc.stop()\n",
    "    sc = SparkContext('local')\n",
    "except NameError:\n",
    "    sc = SparkContext('local')"
   ]
  },
  {
   "cell_type": "code",
   "execution_count": 8,
   "metadata": {},
   "outputs": [],
   "source": [
    "tweets = sc.textFile(\"file:///Users/tijsvandenheuvel/bin/tweets/dev.txt\")"
   ]
  },
  {
   "cell_type": "code",
   "execution_count": 47,
   "metadata": {},
   "outputs": [],
   "source": [
    "def val(x):\n",
    "    if x == '<START>':\n",
    "        val.i+=1\n",
    "    return val.i\n",
    "val.i = -1"
   ]
  },
  {
   "cell_type": "code",
   "execution_count": 152,
   "metadata": {},
   "outputs": [],
   "source": [
    "tweets2 = tweets.flatMap(lambda x: x.split(' ')).filter(lambda x:x!='O').filter(lambda x:x!='').filter(lambda x:x!='<STOP>').map(lambda x:[val(x),x]).filter(lambda x:x[1]!='<START>')\n",
    "\n",
    "text_rdd = tweets2.filter(lambda x: x[1][0]!=':').reduceByKey(lambda x,y: x+' '+y)\n",
    "\n",
    "emoji_rdd = tweets2.filter(lambda x: x[1][0]==':').reduceByKey(lambda x,y:x+' '+y)\n",
    "\n",
    "combined = text_rdd.leftOuterJoin(emoji_rdd).map(lambda x:(x[0],x[1][0],x[1][1]))"
   ]
  },
  {
   "cell_type": "code",
   "execution_count": 155,
   "metadata": {},
   "outputs": [],
   "source": [
    "from pyspark.sql import SQLContext\n",
    "\n",
    "s   = SQLContext(sc)\n",
    "df = s.createDataFrame(combined, ['id', 'text','emoji'])\n",
    "\n",
    "df.write.csv('file:///Users/tijsvandenheuvel/bin/tweets/full', sep=',', header=True)"
   ]
  },
  {
   "cell_type": "code",
   "execution_count": null,
   "metadata": {},
   "outputs": [],
   "source": []
  }
 ]
}