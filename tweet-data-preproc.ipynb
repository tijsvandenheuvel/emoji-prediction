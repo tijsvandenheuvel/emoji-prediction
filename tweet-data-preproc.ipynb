{
 "metadata": {
  "language_info": {
   "codemirror_mode": {
    "name": "ipython",
    "version": 3
   },
   "file_extension": ".py",
   "mimetype": "text/x-python",
   "name": "python",
   "nbconvert_exporter": "python",
   "pygments_lexer": "ipython3",
   "version": "3.8.1-final"
  },
  "orig_nbformat": 2,
  "kernelspec": {
   "name": "Python 3.8.1 64-bit",
   "display_name": "Python 3.8.1 64-bit",
   "metadata": {
    "interpreter": {
     "hash": "082e9a3bcad0a290d0001e938aa60b99250c6c2ef33a923c00b70f9826caf4b7"
    }
   }
  }
 },
 "nbformat": 4,
 "nbformat_minor": 2,
 "cells": [
  {
   "source": [
    "# data cleaning\n",
    "\n",
    "turn tweet data set into workable dataframe using pyspark"
   ],
   "cell_type": "markdown",
   "metadata": {}
  },
  {
   "source": [],
   "cell_type": "markdown",
   "metadata": {}
  },
  {
   "cell_type": "code",
   "execution_count": 174,
   "metadata": {},
   "outputs": [],
   "source": [
    "from pyspark import SparkContext"
   ]
  },
  {
   "cell_type": "code",
   "execution_count": 175,
   "metadata": {},
   "outputs": [],
   "source": [
    "sc = SparkContext.getOrCreate()"
   ]
  },
  {
   "cell_type": "code",
   "execution_count": 176,
   "metadata": {},
   "outputs": [],
   "source": [
    "tweets = sc.textFile(\"file:///Users/tijsvandenheuvel/bin/tweets/dev_r.txt\")"
   ]
  },
  {
   "cell_type": "code",
   "execution_count": 177,
   "metadata": {},
   "outputs": [],
   "source": [
    "tweets_clean = tweets.flatMap(lambda x: x.split(' ')).filter(lambda x:x!='O').filter(lambda x:x!='').filter(lambda x:x!='<STOP>')\n"
   ]
  },
  {
   "cell_type": "code",
   "execution_count": 178,
   "metadata": {},
   "outputs": [],
   "source": [
    "tweets_string = tweets_clean.reduce(lambda x,y:x+' '+y)\n",
    "import re\n",
    "res = re.compile('\\<START\\>').split(tweets_string)\n",
    "res = list(filter(None, res))\n",
    "tweet_rdd = sc.parallelize(res)"
   ]
  },
  {
   "cell_type": "code",
   "execution_count": 179,
   "metadata": {},
   "outputs": [],
   "source": [
    "tweets = tweet_rdd.zipWithIndex().map(lambda x: (x[1],x[0]))"
   ]
  },
  {
   "cell_type": "code",
   "execution_count": 180,
   "metadata": {},
   "outputs": [],
   "source": [
    "# get emojis out of text\n",
    "emoji_rdd = tweets.map(lambda x: (x[0],re.findall(\":.*?:\",x[1]))).map(lambda x:(x[0],' '.join(x[1])))\n",
    "text_rdd = tweets.map(lambda x: (x[0],re.sub(\":.*?:\",\"\",x[1])))\n",
    "\n",
    "combined = text_rdd.leftOuterJoin(emoji_rdd).map(lambda x:(x[0],x[1][0],x[1][1]))"
   ]
  },
  {
   "cell_type": "code",
   "execution_count": 181,
   "metadata": {},
   "outputs": [
    {
     "output_type": "execute_result",
     "data": {
      "text/plain": [
       "[(0,\n",
       "  ' No object is so beautiful that under certain conditions it will not look ugly Oscar Wilde ↺ RT  … ',\n",
       "  ':red_heart:'),\n",
       " (1,\n",
       "  ' Cant expect different results doing the same thingdoing stuff different from now on  🏻 \\u200d  ️ ',\n",
       "  ':person_shrugging: :female_sign:'),\n",
       " (2,\n",
       "  ' “ Lets go Marcus ” “ Shiiit where we goin Home ” Marcus Peters  ',\n",
       "  ':face_with_tears_of_joy:'),\n",
       " (3,\n",
       "  ' Asahd really is a grown man in the body of a 1 year old  ',\n",
       "  ':face_with_tears_of_joy:'),\n",
       " (4,\n",
       "  ' Yoongi Tweet Hello Im Min fell on Butt What the  Min ',\n",
       "  ':face_with_tears_of_joy:'),\n",
       " (5,\n",
       "  ' we cannot afford İSJK  n AQ play havoc with our lives in Kashmir Yes these are the independent Kash … ',\n",
       "  ':backhand_index_pointing_down:'),\n",
       " (6,\n",
       "  ' ranks 6th in January Idol Group Brand Reputation  1Keep using 2Search GOT 7 on Naver  htt … ',\n",
       "  ':party_popper: :backhand_index_pointing_down:'),\n",
       " (7,\n",
       "  ' Ok people are really trying to kill themselves with this Tide Pod challenge Who tf and why tf  🏽 \\u200d  ️ we had the Cinnamon Ch … ',\n",
       "  ':person_facepalming: :female_sign:'),\n",
       " (8,\n",
       "  ' Cant wait to meet my everything right after meeting my boyfriend  ',\n",
       "  ':smiling_face_with_heart-eyes:'),\n",
       " (9,\n",
       "  ' Congratulations Mo has been named the Players Player of the Year  htt …',\n",
       "  ':clapping_hands:')]"
      ]
     },
     "metadata": {},
     "execution_count": 181
    }
   ],
   "source": [
    "combined.collect()"
   ]
  },
  {
   "cell_type": "code",
   "execution_count": 188,
   "metadata": {},
   "outputs": [],
   "source": [
    "from pyspark.sql import SQLContext\n",
    "\n",
    "s   = SQLContext(sc)\n",
    "df = s.createDataFrame(combined, ['id', 'text','emoji'])\n",
    "\n",
    "\n",
    "df.repartition(1).write.csv('file:///Users/tijsvandenheuvel/bin/tweets/outv2', sep=',', header=True)\n"
   ]
  },
  {
   "cell_type": "code",
   "execution_count": null,
   "metadata": {},
   "outputs": [],
   "source": []
  }
 ]
}